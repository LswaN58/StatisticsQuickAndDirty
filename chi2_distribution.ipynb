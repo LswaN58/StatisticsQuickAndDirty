{
 "cells": [
  {
   "cell_type": "code",
   "execution_count": 3,
   "metadata": {},
   "outputs": [],
   "source": [
    "import itertools\n",
    "from typing import List"
   ]
  },
  {
   "attachments": {},
   "cell_type": "markdown",
   "metadata": {},
   "source": [
    "### $\\Chi^2$ Distribution & Testing\n",
    "\n",
    "- Assumption: Randomly sampled from population, with two categorical outcome variables.  \n",
    "- Hypotheses:  \n",
    "  $H_0$ : Variables are statistically *independent*  \n",
    "  $H_a$ : Variables are statistically *dependent*  \n",
    "\n",
    "- Test Statistic: let $r = \\text{row total}$, $c = \\text{column total}$ $g = \\text{total sample size}$, $f_e = \\frac{r \\cdot c}{n}$, then $\\Chi^2 = \\sum \\frac{(f_0 - f_e)^2}{f_e}$  \n",
    "($f_e$ is called the expected frequency)"
   ]
  },
  {
   "attachments": {},
   "cell_type": "markdown",
   "metadata": {},
   "source": [
    "#### Procedure:\n",
    "\n",
    "1. Take the frequency distribution table, and calculate expected frequency $f_e$ for each cell of the table."
   ]
  },
  {
   "cell_type": "code",
   "execution_count": 2,
   "metadata": {},
   "outputs": [],
   "source": [
    "fuji = {\"high\" : 45, \"low\" : 5}\n",
    "honeycrips = {\"high\" : 35, \"low\" : 15}\n"
   ]
  },
  {
   "attachments": {},
   "cell_type": "markdown",
   "metadata": {},
   "source": [
    "2. Calculate the $\\Chi^2$ statistic for the table by taking sum of squared differences between expected frequency and observed frequency $f_o$, which is the actual observed number."
   ]
  },
  {
   "attachments": {},
   "cell_type": "markdown",
   "metadata": {},
   "source": [
    "3. Perform a significance test. This can be done by p-value or critical value.\n",
    "\n",
    "p-value Method:  \n",
    "\n",
    "1. Compute an exact p-value with software.  \n",
    "2. If p-value $\\le \\alpha$, reject $H_0$  \n",
    "\n",
    "Critical Value Method:  \n",
    "\n",
    "1. Check the $\\Chi^2$ against the critical value table for the specfic distribution.\n",
    "Note that $\\Chi^2$ is technically a family of distributions, where the distribution changes depending on the degrees of freedom. We also have one table for each $\\alpha$ value. \n",
    "$df = (r - 1)(c - 1)$, where $r$ is the number of rows and $c$ the number of columns.\n",
    "2. If $\\Chi^2_\\text{obs} \\ge \\text{critical value}$, reject $H_0$."
   ]
  },
  {
   "cell_type": "code",
   "execution_count": 4,
   "metadata": {},
   "outputs": [],
   "source": [
    "class Chi2:\n",
    "    def __init__(self, rows:List[List[float]], row_labels:List[str], col_labels:List[str], name=\"Study\", row_category=\"Row Variable\", col_category=\"Col Variable\"):\n",
    "        self._rows = rows\n",
    "        self._cols = [[row[i] for row in rows] for i in range(len(rows[0]))]\n",
    "        self._row_labels = row_labels\n",
    "        self._col_labels = col_labels\n",
    "\n",
    "    @staticmethod\n",
    "    def fe(row_total, col_total, grand_total):\n",
    "        return (row_total * col_total) / grand_total\n",
    "    @staticmethod\n",
    "    def chiStat(observed, expected):\n",
    "        return ((observed-expected)**2) / observed\n",
    "    @staticmethod\n",
    "    def ChiStat(observed:List[float], expected:List[float]):\n",
    "        if len(observed) != len(expected):\n",
    "            raise ValueError(f\"List of observed observations is not the same length ({len(observed)} as the list of expectations ({len(expected)}!\")\n",
    "        return sum([Chi2.chiStat(observed[i], expected[i]) for i in range(len(observed))])\n",
    "\n",
    "    def _expectedFrequencies(self):\n",
    "        _row_totals = [sum(row) for row in self._rows]\n",
    "        _col_totals = [sum(col) for col in self._cols]\n",
    "        _grand_total = sum(_row_totals)\n",
    "        return [[Chi2.fe(_row_totals[i], _col_totals[j], _grand_total) for j in range(len(row))] for i,row in enumerate(self._rows)]\n",
    "    \n",
    "    def PrintExpectedFrequencies(self):\n",
    "        header = f\"{' '*max([len(label) for label in self._row_labels])} | {' | '.join(self._row_labels)}\"\n",
    "        print()\n",
    "\n",
    "    def Statistic(self):\n",
    "        observed_frequencies = itertools.chain.from_iterable(self._rows)\n",
    "        expected_frequencies = itertools.chain.from_iterable(self._expectedFrequencies())\n",
    "        return Chi2.ChiStat( observed=list(observed_frequencies), expected=list(expected_frequencies) )"
   ]
  },
  {
   "cell_type": "code",
   "execution_count": 5,
   "metadata": {},
   "outputs": [
    {
     "name": "stdout",
     "output_type": "stream",
     "text": [
      "Study outcome is: fe's: [[30.29090909090909, 25.70909090909091], [88.7090909090909, 75.2909090909091]], Chi2: 0.00815511570486035\n",
      "Study outcome is: fe's: [[18.48847926267281, 15.511520737327189], [99.51152073732719, 83.48847926267281]], Chi2: 0.8682245010387092\n"
     ]
    }
   ],
   "source": [
    "sex_study = Chi2([[30, 26], [89, 75]], [\"Male\", \"Female\"], [\"Usual Care\", \"Intervention\"])\n",
    "print(f\"Study outcome is: fe's: {sex_study._expectedFrequencies()}, Chi2: {sex_study.Statistic()}\")\n",
    "\n",
    "living_conditions_study = Chi2([[16, 18], [102, 81]], [\"Alone\", \"With Family\"], [\"Usual Care\", \"Intervention\"])\n",
    "print(f\"Study outcome is: fe's: {living_conditions_study._expectedFrequencies()}, Chi2: {living_conditions_study.Statistic()}\")"
   ]
  },
  {
   "attachments": {},
   "cell_type": "markdown",
   "metadata": {},
   "source": [
    "### Standardized Residuals"
   ]
  },
  {
   "attachments": {},
   "cell_type": "markdown",
   "metadata": {},
   "source": [
    "When we identify a case where at least one association exists ($\\Chi^2$ is significant), we can calculate the pairwise residuals, which are basically the pairwise z-scores.\n",
    "\n",
    "We calculate the residuals $z$ by:\n",
    "$z = \\frac{f_o - f_e}{\\sqrt{f_e (1 - p_\\text{row})(1 - p_\\text{column})}}$,  \n",
    "where $p_\\text{row} = \\frac{\\text{row total}}{\\text{grand total}}$ and $p_\\text{column} = \\frac{\\text{column total}}{{\\text{grand total}}}$"
   ]
  },
  {
   "attachments": {},
   "cell_type": "markdown",
   "metadata": {},
   "source": [
    "### Strength of Association\n",
    "\n",
    "There are multiple approaches to quantifying the strength of an association.\n",
    "\n",
    "1. Difference in (conditional) proportions.\n",
    "  The conditional proportion of a cell is $prop = \\frac{f_0}{\\text{marginal(column)}}$\n",
    "  Then simply take the difference in conditional proportions between the two cells.  \n",
    "  The differences will be between -1 and 1, and the absolute value indicates the strength of association.\n",
    "  TODO: finish figuring this shit out"
   ]
  },
  {
   "attachments": {},
   "cell_type": "markdown",
   "metadata": {},
   "source": [
    "2. Odds Ratio  \n",
    "  Given a 2x2 table:  \n",
    "  <!-- <table>\n",
    "  <tr><th>row</th><th>col 1</th><th>col 2</th></tr>\n",
    "  <tr><td>1  </td><td>A    </td><td>B    </td></tr>\n",
    "  <tr><td>2  </td><td>C    </td><td>D    </td></tr>\n",
    "  </table> -->\n",
    "\n",
    "  | row | col 1 | col 1 |\n",
    "  | --- | ---   | ----  |\n",
    "  | 1   | A     | B     |\n",
    "  | 2   | C     | D     |\n",
    "\n",
    "  We compute the odds ratio $\\theta$ as $\\theta = \\frac{\\text{odds row }1}{\\text{odds row }2} = \\frac{A/B}{C/D} = \\frac{A \\cdot D}{B \\cdot C}$.  \n",
    "  Effectively, then, we are just cross-multiplying."
   ]
  }
 ],
 "metadata": {
  "kernelspec": {
   "display_name": "Python 3",
   "language": "python",
   "name": "python3"
  },
  "language_info": {
   "codemirror_mode": {
    "name": "ipython",
    "version": 3
   },
   "file_extension": ".py",
   "mimetype": "text/x-python",
   "name": "python",
   "nbconvert_exporter": "python",
   "pygments_lexer": "ipython3",
   "version": "3.11.1 (tags/v3.11.1:a7a450f, Dec  6 2022, 19:58:39) [MSC v.1934 64 bit (AMD64)]"
  },
  "orig_nbformat": 4,
  "vscode": {
   "interpreter": {
    "hash": "8a5edab282632443219e051e4ade2d1d5bbc671c781051bf1437897cbdfea0f1"
   }
  }
 },
 "nbformat": 4,
 "nbformat_minor": 2
}
