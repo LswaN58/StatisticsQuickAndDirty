{
 "cells": [
  {
   "attachments": {},
   "cell_type": "markdown",
   "metadata": {},
   "source": [
    "# Multidimensional Scaling vs. Factor Analysis"
   ]
  },
  {
   "attachments": {},
   "cell_type": "markdown",
   "metadata": {},
   "source": [
    "There's a few distinguishing things between these two:\n",
    "\n",
    "1. **Data**: For FA, we only use correlation or covariance matrix on the objects. We then try to model underlying factors that lead to the corr/cov matrix between measured attributes.\n",
    "    For MDS, we can use those matrices, or any other matrix that gives us a similarity or dissimilarity measure between objects. Not quite sure how you'd use a corr or cov matrix, unless you're treating the attributes themselves the objects? Maybe that actually makes sense. Maybe.\n",
    "2. **Representation**: MDS treats objects as points in some space, with dissimilarity as the distances between points. In FA, we treat objects as vectors, and dissimilarity is based on angles betwen vectors.\n",
    "3. **Dimensionality**: Typically, the \"first\" factor in FA will not be seen in MDS. Not quite sure what's meant by that. I guess the idea is that the first factor is usually going to have all variables loaded, i.e. it makes all objects similar, in some sense. Or something. It's not really clear. Motherfucker. Like, just cause they're all loaded, doesn't mean they're all loaded in the same direction. So what the fuck. In any case, the MDS will always try to make objects as distant as possible on first dimension, and generally on all dimensions. I don't really remember what the graphs are you'd actually bother to do with FA. Like, graph points for each object in the factor space? Fuck if I remember. The only weakness to this class is the interpretation discussions are usually either too abstract, with everything based on assumption you already know what's going on, or too software-based, with everything based on assumption you don't care what's going on. Never really work through \"what could we visualize? well, this matrix is this thing, apply it to these values as a transform, get this graph, etc.\" Fuck me.\n",
    "4. **Nonlinear dimensionality reduction**: PCA and FA always assumed linear relationships within the data, at least in the versions of those analyses we've discussed. MDS can handle nonlinear relations with non-metric MDS. So it can do nonlinear dimensionality reduction."
   ]
  }
 ],
 "metadata": {
  "language_info": {
   "name": "python"
  },
  "orig_nbformat": 4
 },
 "nbformat": 4,
 "nbformat_minor": 2
}
