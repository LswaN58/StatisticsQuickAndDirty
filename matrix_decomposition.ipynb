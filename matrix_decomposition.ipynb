{
 "cells": [
  {
   "cell_type": "code",
   "execution_count": 1,
   "metadata": {},
   "outputs": [],
   "source": [
    "import random\n",
    "import numpy as np\n",
    "import pandas as pd\n",
    "import sklearn as skl"
   ]
  },
  {
   "attachments": {},
   "cell_type": "markdown",
   "metadata": {},
   "source": [
    "## Matrix Decompositions"
   ]
  },
  {
   "attachments": {},
   "cell_type": "markdown",
   "metadata": {},
   "source": [
    "### Spectral Decomposition\n",
    "\n",
    "Given a **symmetric matrix** $A$, we can decompose into the form $A = P\\Lambda P^T$, where $P$ is a matrix whose columns are **eigenvectors**, and $\\Lambda$ is a diagonal matrix, whose diagonals contain **eigenvalues**, in descending order from left to right.  \n",
    "This is often called the **spectral decomposition**.\n",
    "\n",
    "Note, not entirely sure if symmetry is required, or if it's coincidental, and we're just currently thinking about our symmetric matrix.\n",
    "\n",
    "All **symmetric** matrices are square; suppose $A$ is $n \\times n$.\n",
    "Then $P$ and $\\Lambda$ are $n \\times n$."
   ]
  },
  {
   "attachments": {},
   "cell_type": "markdown",
   "metadata": {},
   "source": [
    "### Eigenvectors and Eigenvalues\n",
    "\n",
    "The **eigenvectors** and **eigenvalues** have some useful properties.\n",
    "\n",
    "**eigenvector** properties:\n",
    "- All **eigenvectors** $\\vec{e}$ are normalized\n",
    "- All **eigenvectors** are mutually orthogonal\n",
    "\n",
    "Sum over all eigenvalues gives us the total variance of the matrix, I guess.\n",
    "And taking an eigenvalue over the sum gives us the \"importance\" of that component.\n",
    "We refer to the eigenvectors that make up the columns of $P$ as components.  "
   ]
  },
  {
   "attachments": {},
   "cell_type": "markdown",
   "metadata": {},
   "source": [
    "### Singular Value Decomposition\n",
    "\n",
    "Similar to the spectral decomposition, we can perform a decomposition on a general matrix $A$, with dimensions $n \\times p$.\n",
    "That is, matrices that are not necessarily symetric (or positive or definite).\n",
    "In this case, we have $A = P \\Lambda Q'$, where $P$ and $Q$ are not necessarily equal.\n",
    "\n",
    "However, if we compute a correlation matrix (maybe you could do covariance too, not quite sure) from general $A$, then the spectral decomposition of that symmetric matrix will have the same $P$ and $\\Lambda$ as the singular value decomposition.\n",
    "\n",
    "So, after performing SVD, we have $\\Lambda$ with **eigenvalues** in descending order.\n",
    "The first component, then, is the most \"important.\"\n",
    "It best represents the variability within the original matrix $A$.\n",
    "We can then take the first **eigenvector**, $\\vec{e_1}$, the first **eigenvalue** $e_1$, and a row vector of $\\vec{e_1}$, which we could denote as $\\vec{e_1}^T$.\n",
    "Then $\\vec{e_1} \\cdot e_1 \\cdot \\vec{e_1}^T$ is an approximation of the original $A$.\n",
    "\n",
    "We can instead take, say, the first two **eigenvectors** and **eigenvalues** of the decomposition, and get a better approximation of $A$, and so forth.\n",
    "\n",
    "Also note, initially each variable in original matrix is equivalent to an eigenvalue of 1, so an eigenvalue > 1 indicates the corresponding eigenvector gives more information than an original variable would."
   ]
  },
  {
   "cell_type": "code",
   "execution_count": 14,
   "metadata": {},
   "outputs": [
    {
     "name": "stdout",
     "output_type": "stream",
     "text": [
      "Original matrix:\n",
      "          0         1         2         3         4\n",
      "0  5.382380  7.096721  6.040735  5.291639  9.525496\n",
      "1  0.365113  0.972874  9.297729  6.265712  5.637460\n",
      "2  7.186884  8.494899  8.472400  5.064667  7.765232\n",
      "3  1.071014  6.345808  7.561702  7.595883  9.517038\n",
      "4  9.241452  9.527494  6.503701  0.726309  0.094821\n",
      "\n",
      "Correlation matrix:\n",
      "          0         1         2         3         4\n",
      "0  1.000000  0.854053 -0.534764 -0.854091 -0.514550\n",
      "1  0.854053  1.000000 -0.663922 -0.584032 -0.206453\n",
      "2 -0.534764 -0.663922  1.000000  0.454595  0.086395\n",
      "3 -0.854091 -0.584032  0.454595  1.000000  0.864872\n",
      "4 -0.514550 -0.206453  0.086395  0.864872  1.000000\n",
      "\n",
      "Covariance matrix:\n",
      "           0          1         2         3          4\n",
      "0  14.805748  10.908341 -2.774997 -8.489727  -7.771384\n",
      "1  10.908341  11.018384 -2.972083 -5.008063  -2.689898\n",
      "2  -2.774997  -2.972083  1.818737  1.583739   0.457330\n",
      "3  -8.489727  -5.008063  1.583739  6.673422   8.769632\n",
      "4  -7.771384  -2.689898  0.457330  8.769632  15.406732\n",
      "\n",
      "The matrix svd:\n",
      "[[-0.48309243 -0.04859355 -0.51610344  0.44170456 -0.55026783]\n",
      " [-0.34077562 -0.45956998  0.7611209   0.25345247 -0.17065825]\n",
      " [-0.53547911  0.15824126 -0.07305003  0.30378906  0.76850356]\n",
      " [-0.47776205 -0.39851071 -0.19556038 -0.7574882   0.0300066 ]\n",
      " [-0.3681022   0.77626221  0.33279431 -0.27309843 -0.27673625]]\n",
      "[31.10661409 11.83731202  5.3054252   2.15788572  0.07709162]\n",
      "[[-0.33711556 -0.47731401 -0.53461901 -0.36326539 -0.49065794]\n",
      " [ 0.62977957  0.4578105  -0.10058508 -0.40536808 -0.46834454]\n",
      " [-0.02995365 -0.30403079  0.75880209  0.0799587  -0.5696438 ]\n",
      " [ 0.61085322 -0.67053124  0.04380436 -0.22621882  0.3523527 ]\n",
      " [-0.34013514  0.14329699  0.35547958 -0.80383246  0.30209551]]\n",
      "The correlation svd:\n",
      "[[-0.51929174 -0.054493   -0.41537085 -0.5781732  -0.46962687]\n",
      " [-0.45570634 -0.40482378 -0.44259422  0.6390168   0.15561918]\n",
      " [ 0.36352422  0.52908467 -0.75016194  0.03728892  0.15422757]\n",
      " [ 0.51104029 -0.3202767  -0.11832653  0.26088222 -0.74444607]\n",
      " [ 0.35966064 -0.6712976  -0.23416513 -0.43350119  0.42100733]]\n",
      "[3.32072916e+00 1.17826878e+00 4.10857723e-01 9.01443384e-02\n",
      " 4.20550149e-17]\n",
      "[[-0.51929174 -0.45570634  0.36352422  0.51104029  0.35966064]\n",
      " [-0.054493   -0.40482378  0.52908467 -0.3202767  -0.6712976 ]\n",
      " [-0.41537085 -0.44259422 -0.75016194 -0.11832653 -0.23416513]\n",
      " [-0.5781732   0.6390168   0.03728892  0.26088222 -0.43350119]\n",
      " [ 0.46962687 -0.15561918 -0.15422757  0.74444607 -0.42100733]]\n",
      "\n",
      "The covariance svd:\n",
      "[[-0.61501316 -0.28526214 -0.60446455  0.23573823  0.34559285]\n",
      " [-0.43573267 -0.5567083   0.41204156 -0.55929632 -0.13274897]\n",
      " [ 0.11700979  0.17327569 -0.64376968 -0.66104863 -0.32382024]\n",
      " [ 0.41927496 -0.17640573 -0.01579241 -0.35636654  0.81599204]\n",
      " [ 0.49235461 -0.73997158 -0.22395437  0.2600629  -0.3037116 ]]\n",
      "[3.50713780e+01 1.23706677e+01 1.31338003e+00 9.67597612e-01\n",
      " 4.82856744e-16]\n",
      "[[-0.61501316 -0.43573267  0.11700979  0.41927496  0.49235461]\n",
      " [-0.28526214 -0.5567083   0.17327569 -0.17640573 -0.73997158]\n",
      " [-0.60446455  0.41204156 -0.64376968 -0.01579241 -0.22395437]\n",
      " [ 0.23573823 -0.55929632 -0.66104863 -0.35636654  0.2600629 ]\n",
      " [-0.34559285  0.13274897  0.32382024 -0.81599204  0.3037116 ]]\n",
      "\n",
      "The matrix eig:\n",
      "[30.23393931 -6.81939042  2.06384568  0.23875802 -3.1987932 ]\n",
      "[[ 0.47632502  0.31255331  0.18309992 -0.29619998 -0.48272488]\n",
      " [ 0.34990944  0.26908207 -0.23214619  0.10095391  0.38407965]\n",
      " [ 0.53841647 -0.01648392  0.28855553  0.371249   -0.07547621]\n",
      " [ 0.46189134  0.40545072 -0.82541778 -0.8194584  -0.58471768]\n",
      " [ 0.38398171 -0.81562447  0.38471258  0.30452585  0.52140972]]\n",
      "The correlation eig:\n",
      "[3.32072916e+00 1.17826878e+00 4.10857723e-01 1.25120183e-16\n",
      " 9.01443384e-02]\n",
      "[[-0.51929174 -0.054493   -0.41537085 -0.46962687  0.5781732 ]\n",
      " [-0.45570634 -0.40482378 -0.44259422  0.15561918 -0.6390168 ]\n",
      " [ 0.36352422  0.52908467 -0.75016194  0.15422757 -0.03728892]\n",
      " [ 0.51104029 -0.3202767  -0.11832653 -0.74444607 -0.26088222]\n",
      " [ 0.35966064 -0.6712976  -0.23416513  0.42100733  0.43350119]]\n",
      "\n"
     ]
    }
   ],
   "source": [
    "mat = pd.DataFrame([[random.random() * 10 for j in range(5)] for i in range(5)])\n",
    "print(f\"Original matrix:\\n{mat}\\n\")\n",
    "\n",
    "correlations = mat.corr()\n",
    "print(f\"Correlation matrix:\\n{correlations}\\n\")\n",
    "\n",
    "covariances = mat.cov()\n",
    "print(f\"Covariance matrix:\\n{covariances}\\n\")\n",
    "\n",
    "mat_svd = np.linalg.svd(mat)\n",
    "corr_svd = np.linalg.svd(correlations)\n",
    "cov_svd = np.linalg.svd(covariances)\n",
    "print(\n",
    "f\"\"\"The matrix svd:\n",
    "{mat_svd[0]}\\n{mat_svd[1]}\\n{mat_svd[2]}\n",
    "The correlation svd:\n",
    "{corr_svd[0]}\\n{corr_svd[1]}\\n{corr_svd[2]}\\n\n",
    "The covariance svd:\n",
    "{cov_svd[0]}\\n{cov_svd[1]}\\n{cov_svd[2]}\\n\"\"\"\n",
    ")\n",
    "\n",
    "mat_eig = np.linalg.eig(mat)\n",
    "corr_eig = np.linalg.eig(correlations)\n",
    "print(f\"The matrix eig:\\n{mat_eig[0]}\\n{mat_eig[1]}\\nThe correlation eig:\\n{corr_eig[0]}\\n{corr_eig[1]}\\n\")"
   ]
  }
 ],
 "metadata": {
  "kernelspec": {
   "display_name": "Python 3",
   "language": "python",
   "name": "python3"
  },
  "language_info": {
   "codemirror_mode": {
    "name": "ipython",
    "version": 3
   },
   "file_extension": ".py",
   "mimetype": "text/x-python",
   "name": "python",
   "nbconvert_exporter": "python",
   "pygments_lexer": "ipython3",
   "version": "3.11.1"
  },
  "orig_nbformat": 4,
  "vscode": {
   "interpreter": {
    "hash": "5238573367df39f7286bb46f9ff5f08f63a01a80960060ce41e3c79b190280fa"
   }
  }
 },
 "nbformat": 4,
 "nbformat_minor": 2
}
