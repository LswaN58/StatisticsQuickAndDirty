{
 "cells": [
  {
   "attachments": {},
   "cell_type": "markdown",
   "metadata": {},
   "source": [
    "# Individual Differences Scaling"
   ]
  },
  {
   "attachments": {},
   "cell_type": "markdown",
   "metadata": {},
   "source": [
    "This continues on from MDS.\n",
    "So far, we talked about using *metric MDS*, where we have some continuous variable for distance, which is interval data.\n",
    "Many statistical methods tend to assume interval data, but we often don't have actual interval data.\n",
    "We sorta get away with sluffing, but really should be more concerned about it.\n",
    "Sometimes we do transforms to get, say, skewed data into a more interval-ish form.\n",
    "If we have data that we aren't confident is interval data, we can use *non-metric MDS*, which finds a transform that gets our similarity/dissimilarity data into a form that is more interval-ish.\n",
    "We don't really seem to have a mathematical property given that defines interval.\n",
    "I think it's just where one unit difference between any two numbers always has the same meaning.\n",
    "\n",
    "We also had idea that we could do some kind of MDS for just a single person.\n",
    "I think that just means one sample with the one sample giving similarity/dissimilarity for several stimuli.\n",
    "In general, even across samples we were set up to look for what's common across all people.\n",
    "However, we may want to preserve differences instead.\n",
    "That's what we'll discuss here."
   ]
  },
  {
   "attachments": {},
   "cell_type": "markdown",
   "metadata": {},
   "source": [
    "Consider a scale where individuals make a rating of similarity between cities.\n",
    "For one person, a difference between 1 & 2 may be the most important distinguisher between cities, with higher-numbered cities being fairly similar.\n",
    "For another, difference between 5 & 6 could be the major distinguisher.\n",
    "\n",
    "Similarly, one person may make their judgement based primarily on city size, another may base judgements primarily on climate, or another on physical location."
   ]
  },
  {
   "attachments": {},
   "cell_type": "markdown",
   "metadata": {},
   "source": [
    "## INDSCAL model\n",
    "\n",
    "This method assumes there's some set of dimensions used by all subjects to generate their similarity data.\n",
    "However, we also assume each subject has an individual set of weights for each dimension, which indicate the weight the subject gives to each dimension in determining similarity.\n",
    "\n",
    "We thus assume a group space where objects are positioned based on overall group ratings of dissimilarity, as well as a private space for each subject, where objects are positioned based on individual ratings of dissimilarity.\n",
    "\n",
    "Let $X_{ir}$, $X_{jr}$ be the locations of objects $i$, $j$ in an $R$-dimensional space.\n",
    "Further, let $w_{kr}$ indicate subject $k$'s weight on dimension $r$.\n",
    "Then $d_{ij, k} = \\sqrt{\\sum\\limits_{r=1}^R w_{kr} \\left( x_{ir} - x_{jr} \\right)^2}$\n",
    "\n",
    "Oh, so $d_{ij, k}$ is dissimilarity of $i$ and $j$ as rated by $k$.\n",
    "I think."
   ]
  },
  {
   "attachments": {},
   "cell_type": "markdown",
   "metadata": {},
   "source": [
    "So the above is our model for how dissimilarity is chosen, based on $k$'s weights per dimension.\n",
    "\n",
    "Then we must determine how many dimensions to use, and generate model to uncover weights, I suppose.\n",
    "Idea is that one person could, for a 2D case, have weight of 1 on first and 0 on second. \n",
    "Another might have 0 on first and 1 on second.\n",
    "Another, maybe 0.25 and 0.75.\n",
    "Note, weights don't necessarily sum to 1 though.\n",
    "In fact, sum of squared weights is the individual $R^2$.\n",
    "Weights are also assumed to always be non-negative."
   ]
  },
  {
   "attachments": {},
   "cell_type": "markdown",
   "metadata": {},
   "source": [
    "Note: In `R`, the `smacof` package implements IDS, both INDSCAL and whatever other method we're gonna see in second half of class."
   ]
  },
  {
   "attachments": {},
   "cell_type": "markdown",
   "metadata": {},
   "source": [
    "Note: Recall that most such packages default to assume dissimilarity data; if you have similarity data then you need to adjust the parameters."
   ]
  },
  {
   "attachments": {},
   "cell_type": "markdown",
   "metadata": {},
   "source": [
    "When we run an INDSCAL, we should get a stress and an $R^2$ for each individual.\n",
    "Where stress is low, $R^2$ is generally high, since stress is low when a lot of variance is explained, I think.\n",
    "There's also an \"averaged over matrices\" value for stress and $R^2$, using RMS.\n",
    "Recall that stress > 0.2 is pretty high, and a large stress indicates the overall model may not be explaining much of the variability.\n",
    "\n",
    "We should also get our positions for each stimulus in the overall space, which we can plot.\n",
    "I think we should theoretically get the positions for individual spaces as well.\n",
    "\n",
    "We definitely get a matrix of dimension weights for each subject, as well as an overall \"importance\" for each dimension, some sort of average across subjects (although it appears to be lower than a straight average).\n",
    "Note that some individuals will have significant differences in how they weight the dimensions.\n",
    "This is measured by a \"weirdness\" index.\n",
    "A weirdness of 0 indicates an individual is weighting the dimensions exactly as the general population, and higher weirdness values indicate divergence from the \"overall importances.\""
   ]
  },
  {
   "attachments": {},
   "cell_type": "markdown",
   "metadata": {},
   "source": [
    "#### Flattened weights\n",
    "\n",
    "Along with our normal weights, we have a notion of \"flattened\" subject weights.\n",
    "For $R$ dimensions, we have $R - 1$ flattened weights per subject, I think.\n",
    "Basic idea is to take a diagonal plane in our $R$-dimensional space, I think, e.g. $y = -x + 1$ in 2D.\n",
    "It is completely unclear to me how the fuck the actual line is chosen.\n",
    "Apparently the distance of the line/plane from the origin is arbitrary.\n",
    "Not stated whether the slope is always the same, or how that slope might be determined in higher dimensions.\n",
    "The fuck.\n",
    "\n",
    "Then we can take the weights as vectors in $R$-dimensional space, and find the intersections of those vectors with the plane, e.g. where 2D weight vectors intersect the line."
   ]
  },
  {
   "attachments": {},
   "cell_type": "markdown",
   "metadata": {},
   "source": [
    "We should also be able to do disparity scatterplots for individual subjects.\n",
    "These would show how \"observed\" dissimilarities from the subject are transformed to get disparity values.\n",
    "Seems very similar to non-metric MDS, but with multiple instances.\n",
    "\n",
    "\"Ideal\" transform to see here is something fairly linear, as it indicates the scale is doing a good job of separating our stimuli in a meaningful way."
   ]
  }
 ],
 "metadata": {
  "language_info": {
   "name": "python"
  },
  "orig_nbformat": 4
 },
 "nbformat": 4,
 "nbformat_minor": 2
}
