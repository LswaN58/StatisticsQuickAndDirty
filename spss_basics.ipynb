{
 "cells": [
  {
   "cell_type": "code",
   "execution_count": null,
   "metadata": {},
   "outputs": [],
   "source": []
  },
  {
   "attachments": {},
   "cell_type": "markdown",
   "metadata": {},
   "source": [
    "A few notes on SPSS use:\n",
    "\n",
    "Bascially a spreadsheet with lots of of stats functions in menus."
   ]
  },
  {
   "attachments": {},
   "cell_type": "markdown",
   "metadata": {},
   "source": [
    "## Factor\n",
    "\n",
    "Under dimension reduction, we have `factor...` entry, which is for factor analysis, but is also used for PCA and similar factoring approaches to dimension reduction.\n",
    "Got through the modal to select variables, and then under extraction you can do another modal to select PCA as your method of extraction.\n",
    "Scores button gives a modal for choosing to save the component scores as new variables.\n",
    "\n",
    "The output will give a Component Matrix, which is the correlations on each component, and separately a Component Score Coefficient Matrix, which I think is the weights themselves...\n",
    "except we looked in detail at these in class, and concluded it probably is something else,.\n",
    "In fact, they are probably the standardized values of the weights.\n",
    "That's what we concluded."
   ]
  }
 ],
 "metadata": {
  "kernelspec": {
   "display_name": "Python 3",
   "language": "python",
   "name": "python3"
  },
  "language_info": {
   "name": "python",
   "version": "3.11.1 (tags/v3.11.1:a7a450f, Dec  6 2022, 19:58:39) [MSC v.1934 64 bit (AMD64)]"
  },
  "orig_nbformat": 4,
  "vscode": {
   "interpreter": {
    "hash": "5238573367df39f7286bb46f9ff5f08f63a01a80960060ce41e3c79b190280fa"
   }
  }
 },
 "nbformat": 4,
 "nbformat_minor": 2
}
