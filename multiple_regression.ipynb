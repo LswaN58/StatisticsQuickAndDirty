{
 "cells": [
  {
   "cell_type": "code",
   "execution_count": null,
   "metadata": {},
   "outputs": [],
   "source": []
  },
  {
   "attachments": {},
   "cell_type": "markdown",
   "metadata": {},
   "source": [
    "# Multiple Regression"
   ]
  },
  {
   "attachments": {},
   "cell_type": "markdown",
   "metadata": {},
   "source": [
    "We can generalize regression to include multiple explanatory variables.\n",
    "This may be helpful to build a better model, or to account for confounding variables and allow better isolation of our analysis of a relationship between a specific explanatory variable to the outcome.\n",
    "\n",
    "General form is $\\hat{y} = \\alpha + \\beta_1 x_1 + \\beta_2 x_2 + \\ldots + \\beta_n x_n$."
   ]
  },
  {
   "attachments": {},
   "cell_type": "markdown",
   "metadata": {},
   "source": [
    "## Multiple Regression and Spurious Relations\n",
    "\n",
    "Consider a univariate regression model for a statistically significant spurious relationship.\n",
    "Such a relation will result in a model with significant slope.\n",
    "\n",
    "If we introduce another explanatory variable and create a bivariate model, where the new variable has a true causative effect, then the original explanatory variable will no longer be a significant part of the model. Apparently."
   ]
  }
 ],
 "metadata": {
  "kernelspec": {
   "display_name": "Python 3",
   "language": "python",
   "name": "python3"
  },
  "language_info": {
   "name": "python",
   "version": "3.11.1 (tags/v3.11.1:a7a450f, Dec  6 2022, 19:58:39) [MSC v.1934 64 bit (AMD64)]"
  },
  "orig_nbformat": 4,
  "vscode": {
   "interpreter": {
    "hash": "8a5edab282632443219e051e4ade2d1d5bbc671c781051bf1437897cbdfea0f1"
   }
  }
 },
 "nbformat": 4,
 "nbformat_minor": 2
}
