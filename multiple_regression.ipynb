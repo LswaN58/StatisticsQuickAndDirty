{
 "cells": [
  {
   "cell_type": "code",
   "execution_count": null,
   "metadata": {},
   "outputs": [],
   "source": []
  },
  {
   "attachments": {},
   "cell_type": "markdown",
   "metadata": {},
   "source": [
    "# Multiple Regression"
   ]
  },
  {
   "attachments": {},
   "cell_type": "markdown",
   "metadata": {},
   "source": [
    "We can generalize regression to include multiple explanatory variables.\n",
    "This may be helpful to build a better model, or to account for confounding variables and allow better isolation of our analysis of a relationship between a specific explanatory variable to the outcome.\n",
    "\n",
    "General form is $\\hat{y} = \\alpha + \\beta_1 x_1 + \\beta_2 x_2 + \\ldots + \\beta_n x_n$."
   ]
  },
  {
   "attachments": {},
   "cell_type": "markdown",
   "metadata": {},
   "source": [
    "Note, apparently bivariate regression models define a best-fit _plane_, rather than 3D line, which was my assumption. Need to think a bit more about that."
   ]
  },
  {
   "attachments": {},
   "cell_type": "markdown",
   "metadata": {},
   "source": [
    "## Multiple Regression and Spurious Relations\n",
    "\n",
    "Consider a univariate regression model for a statistically significant spurious relationship.\n",
    "Such a relation will result in a model with significant slope.\n",
    "\n",
    "If we introduce another explanatory variable and create a bivariate model, where the new variable has a true causative effect, then the original explanatory variable will no longer be a significant part of the model. Apparently."
   ]
  },
  {
   "attachments": {},
   "cell_type": "markdown",
   "metadata": {},
   "source": [
    "## Correlations\n",
    "\n",
    "For multiple regression, we can use squared partial correlations.\n",
    "These "
   ]
  }
 ],
 "metadata": {
  "kernelspec": {
   "display_name": "Python 3",
   "language": "python",
   "name": "python3"
  },
  "language_info": {
   "name": "python",
   "version": "3.11.1"
  },
  "orig_nbformat": 4,
  "vscode": {
   "interpreter": {
    "hash": "5238573367df39f7286bb46f9ff5f08f63a01a80960060ce41e3c79b190280fa"
   }
  }
 },
 "nbformat": 4,
 "nbformat_minor": 2
}
