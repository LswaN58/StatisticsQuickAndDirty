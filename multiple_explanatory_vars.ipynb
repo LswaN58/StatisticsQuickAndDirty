{
 "cells": [
  {
   "cell_type": "code",
   "execution_count": null,
   "metadata": {},
   "outputs": [],
   "source": []
  },
  {
   "attachments": {},
   "cell_type": "markdown",
   "metadata": {},
   "source": [
    "# Multiple Explanatory Variables"
   ]
  },
  {
   "attachments": {},
   "cell_type": "markdown",
   "metadata": {},
   "source": [
    "A primary application of finding multiple variables is to establish causation.\n",
    "To show causation, we need the following:\n",
    "\n",
    "1. Statistical test showing a _significant_ association.\n",
    "2. Experimental design establishing time order.\n",
    "3. Control to rule out **confounding variables**.\n",
    "    This can be accomplished through experimental design or statistical testing.\n",
    "    \n",
    "    - **Random assignment** is an experimental design approach to control for confounding variables.\n",
    "    - **Dependent sampling** is another experimental design approach\n",
    "    - **Chi-square** test is a statistical approach that directly checks for confounding variables."
   ]
  },
  {
   "attachments": {},
   "cell_type": "markdown",
   "metadata": {},
   "source": [
    "We can identify several types of association between explanatory variables and outcome variables, in cases where the explanatory variable is *not* the sole cause for the outcome.  \n",
    "Below, consider outcome $y$ associated with explanatory variable $x_1$, and caused by explanatory variable $x_2$:\n",
    "\n",
    "1. **Spurious association** No causation between the explanatory and outcome variables, pure correlation  \n",
    "    ($x_1 \\not\\Rightarrow y \\land x_2 \\implies y$)  \n",
    "    It is possible the two share a common cause ($x_2 \\implies x_1 \\land x_2 \\implies y$).\n",
    "2. **Chain Relationships** Mediators, which affect the causation relation between the outcome and another explanatory variable.  \n",
    "    ($x_1 \\implies x_2 \\implies y$)  \n",
    "    Above is _complete_ mediation; partial mediation is possible, where $x_1$ has some direct association:  \n",
    "    ($x_1 \\implies x_2 \\implies y \\land x_1 \\implies y$)  \n",
    "3. **Suppressor Variable** The explanatory variable must be included in order for another explanatory variable to have a statistical association with the outcome.  \n",
    "    ($x_2 \\implies y \\land x_1 \\implies \\neg y$), or maybe ($x_2 \\implies y \\land x_1 \\implies \\neg x_2$), not quite sure  \n",
    "    Basically, $X_2$ causes $y$, but this won't be visible statistically until we include the effects of $X_1$.\n",
    "4. **Multiple Causes** The explanatory variable is one of several with a causation relationship to the outcome.  \n",
    "    ($x_1 \\implies y \\land x_2 \\implies y$)  \n",
    "    It is possible that the explanatory variables have an association as well.  \n",
    "    ($x_1 \\implies y \\land x_2 \\implies x_1 \\land x_2 \\implies y$)\n",
    "5. **Statistical Interaction** Moderators, which cause different groups to have different associations between the explanatory and outcome variables.  \n",
    "    ($x_1 \\implies y \\mid x_2$)"
   ]
  },
  {
   "attachments": {},
   "cell_type": "markdown",
   "metadata": {},
   "source": [
    "## Examples\n",
    "\n",
    "Statistical Interaction:  \n",
    "Consider outcome variable of mood, and explanatory variables of ADHD score and meditation time.\n",
    "We might expect mood to improve with meditation time.\n",
    "However, this may be moderated by ADHD score, where people with low scores have a positive association between meditation and mood, while people with high scores may have a negative association."
   ]
  },
  {
   "attachments": {},
   "cell_type": "markdown",
   "metadata": {},
   "source": [
    "## Controlling for Third Variable\n",
    "\n",
    "In cases above, where we believe there is some variable $x_2$ that causes $y$, but we want to study effects of $x_1$, there's two ways to control for $x_2$:\n",
    "1. Experimental Design.  \n",
    "    Discussed above\n",
    "2. Statistical Control.  \n",
    "    For regression, we'd add $x_2$ to our regression model, and check for changes in slopes/explained variance."
   ]
  }
 ],
 "metadata": {
  "kernelspec": {
   "display_name": "Python 3",
   "language": "python",
   "name": "python3"
  },
  "language_info": {
   "name": "python",
   "version": "3.11.1"
  },
  "orig_nbformat": 4,
  "vscode": {
   "interpreter": {
    "hash": "5238573367df39f7286bb46f9ff5f08f63a01a80960060ce41e3c79b190280fa"
   }
  }
 },
 "nbformat": 4,
 "nbformat_minor": 2
}
