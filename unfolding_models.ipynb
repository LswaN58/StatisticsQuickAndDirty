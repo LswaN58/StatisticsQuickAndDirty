{
 "cells": [
  {
   "attachments": {},
   "cell_type": "markdown",
   "metadata": {},
   "source": [
    "# Unfolding Models"
   ]
  },
  {
   "attachments": {},
   "cell_type": "markdown",
   "metadata": {},
   "source": [
    "Here, assume we have a matrix of rankings, with subjects as rows and stimuli as columns.\n",
    "Then we're generating matrix where stimuli and subjects are in both rows and columns, sorta like a correlation matrix.\n",
    "But instead of correlations, I think we're trying to get distances between all pairs of subjects and stimuli.\n",
    "Then we can try to use our MDS/IDS techniques to graph all together in a low-dimensional space.\n",
    "Subjects' distances from stimuli indicate how much they like different stimuli.\n",
    "e.g. if a subject gets graphed almost on top of a stimuli, it indicates they have a very strong preference for that stimuli.\n",
    "Or something like that."
   ]
  },
  {
   "attachments": {},
   "cell_type": "markdown",
   "metadata": {},
   "source": [
    "In SPSS, at least, we're still using `alscal`, but we need to specify variables, to show it that we're using a rectangular matrix.\n",
    "Also, we need to ensure there's a limit on the number of iterations, like 50-ish, because if we let it go too long it will eventually find a nonsense solution that just puts all subjects equidistant from all stimuli, or something."
   ]
  },
  {
   "attachments": {},
   "cell_type": "markdown",
   "metadata": {},
   "source": [
    "This approach will give us a stress and $R^2$ for each subject as well as each stimuli.\n",
    "\n",
    "We overall get similar outputs to IDS case, though here we'll have a bunch of -1's in the scatterplot of disparities, which is basically all pairs of subjects with other subjects, which don't have a meaningful dissimilarity coming from our original data."
   ]
  }
 ],
 "metadata": {
  "language_info": {
   "name": "python"
  },
  "orig_nbformat": 4
 },
 "nbformat": 4,
 "nbformat_minor": 2
}
