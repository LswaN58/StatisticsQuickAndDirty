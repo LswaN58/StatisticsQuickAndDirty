{
 "cells": [
  {
   "cell_type": "code",
   "execution_count": 6,
   "metadata": {},
   "outputs": [],
   "source": [
    "import math\n",
    "import numpy as np"
   ]
  },
  {
   "cell_type": "markdown",
   "metadata": {},
   "source": [
    "# Basic Statistics\n",
    "\n",
    "Throughout this book, I'll use an example of an apple farmer measuring things related to apples.\n",
    "This may not be a meaningful use of statistics to anyone reading this (I don't really expect this book to catch on in the farming community, but you never know).\n",
    "However, it should be simple and intuitive, and that is the goal here.\n",
    "\n",
    "## Attributes and Statistics\n",
    "\n",
    "So, imagine yourself an apple farmer.\n",
    "You've got many trees with many apples.\n",
    "If you pick an apple, you can measure different things about it.\n",
    "You could weigh it, you could measure its height, or its circumference.\n",
    "We will refer to these as **attributes** of the apple.  \n",
    "\n",
    "> **Attribute**: A measurable property of an object\n",
    "\n",
    "After taking measurements of your apple, you might assign some sort of quality rating based on the numbers you came up with.\n",
    "Perhaps \"bigger is better,\" so you simply add the height, weight, and circumference to get the \"quality.\"\n",
    "This would be a kind of **statistic**\n",
    "\n",
    "> **Statistic**: A mathematical summary of one or more **attributes** across one or more objects.\n",
    "\n",
    "By adding the values of three attributes, you got a single number to describe your object (the apple).\n",
    "By the definition above, this \"quality\" value is a statistic.\n",
    "However, this case of summarizing multiple attributes for a single object is uncommon.\n",
    "Instead, we usually focus on statistics that summarize a single attribute across many objects.\n",
    "\n",
    "For example, suppose one of your trees has 100 apples.\n",
    "You could pick all 100 apples, and measure the weight of each.\n",
    "In this case, it would be nice to summarize the weights within this **population** of apples.\n",
    "\n",
    "> **Population**: A collection of objects sharing some property of interest"
   ]
  },
  {
   "attachments": {},
   "cell_type": "markdown",
   "metadata": {},
   "source": [
    "## Populations and Samples"
   ]
  },
  {
   "attachments": {},
   "cell_type": "markdown",
   "metadata": {},
   "source": [
    "## Distributions"
   ]
  },
  {
   "attachments": {},
   "cell_type": "markdown",
   "metadata": {},
   "source": [
    "\n",
    "## Measures of Center\n"
   ]
  },
  {
   "attachments": {},
   "cell_type": "markdown",
   "metadata": {},
   "source": [
    "There are many ways to summarize a single attribute across a population.\n",
    "One category is called \"measures of center.\"\n",
    "These are statistics that try, in some way, to represent a \"typical\" value in the population.\n",
    "\n",
    "Before we discuss these measures, we should have an example to work with.\n",
    "To keep things simple, let's assume one of your trees had only 15 apples, which you picked and weighed.\n",
    "The masses are given below:\n",
    "\n",
    "<table>\n",
    "  <tr>\n",
    "  Masses of apples (g)\n",
    "  </tr>\n",
    "  <tr>\n",
    "    <td>180 g</td> <td>183 g</td> <td>191 g</td> <td>191 g</td> <td>191 g</td>\n",
    "  </tr>\n",
    "  <tr>\n",
    "    <td>192 g</td> <td>203 g</td> <td>209 g</td> <td>211 g</td> <td>212 g</td>\n",
    "  </tr>\n",
    "  <tr>\n",
    "    <td>217 g</td> <td>223 g</td> <td>224 g</td> <td>224 g</td> <td>229 g</td>\n",
    "  </tr>\n",
    "</table>\n",
    "\n",
    "Now, a simple way to choose a \"typical\" value would be to count the number of times each different value appears in your population.\n",
    "Then you could report the most-common value as your statistic.\n",
    "We call this statistic the **mode**.\n",
    "\n",
    "> **Mode**: A statistic whose value is the most-common attribute value in the population\n",
    "\n",
    "In the example above, the value 191 appears three times, 224 appears twice, and each other value appears only once.\n",
    "Thus, the mode for our example population is 191 g.\n",
    "\n",
    "Another simple option would be to lay out all the values for a given attribute, sorted from smallest to largest, and choose the middle value as the statistic value.\n",
    "We call this statistic the **median**.\n",
    "\n",
    "> **Median**: A statistic whose value is the middle value of the attribute across the population\n",
    "\n",
    "In our example, the masses are already listed in sorted order, so the middle value for the population is at the center of the table; the median for our population is 209 g."
   ]
  },
  {
   "cell_type": "code",
   "execution_count": 7,
   "metadata": {},
   "outputs": [
    {
     "data": {
      "application/vnd.jupyter.widget-view+json": {
       "model_id": "279db233feb94190a40709b5b6ea7437",
       "version_major": 2,
       "version_minor": 0
      },
      "text/plain": [
       "IntSlider(value=0)"
      ]
     },
     "metadata": {},
     "output_type": "display_data"
    }
   ],
   "source": [
    "import ipywidgets as widgets\n",
    "from IPython.display import display\n",
    "test_slider = widgets.IntSlider()\n",
    "display(test_slider)"
   ]
  },
  {
   "cell_type": "code",
   "execution_count": 8,
   "metadata": {},
   "outputs": [
    {
     "name": "stdout",
     "output_type": "stream",
     "text": [
      "[211]\n"
     ]
    }
   ],
   "source": [
    "from basics_py import harvest_tree\n",
    "\n",
    "n_col = max(math.floor(math.sqrt(test_slider.value)), 1)\n",
    "masses = harvest_tree(num_apples=max(test_slider.value, 1))\n",
    "for i in range(math.ceil(len(masses)/n_col)):\n",
    "    print(str(masses[n_col*i:n_col*(i+1)]))\n",
    "\n",
    "n_row = math.ceil(test_slider.value / n_col)\n",
    "# print(np.reshape(np.sort(masses), (n_row, n_col)))"
   ]
  },
  {
   "cell_type": "code",
   "execution_count": 9,
   "metadata": {},
   "outputs": [
    {
     "data": {
      "application/vnd.jupyter.widget-view+json": {
       "model_id": "567e60fc4bf4467eb1b823d466f17e85",
       "version_major": 2,
       "version_minor": 0
      },
      "text/plain": [
       "Stack(children=(IntSlider(value=0), ColorPicker(value='black')), titles=('', ''))"
      ]
     },
     "metadata": {},
     "output_type": "display_data"
    }
   ],
   "source": [
    "test_slider_2 = widgets.IntSlider()\n",
    "test_slider_3 = widgets.ColorPicker()\n",
    "# label = widgets.Label(\"Test\")\n",
    "box = widgets.Stack([test_slider_2, test_slider_3])\n",
    "display(box)"
   ]
  },
  {
   "attachments": {},
   "cell_type": "markdown",
   "metadata": {},
   "source": [
    "## Measures of Spread"
   ]
  }
 ],
 "metadata": {
  "kernelspec": {
   "display_name": "Python 3",
   "language": "python",
   "name": "python3"
  },
  "language_info": {
   "codemirror_mode": {
    "name": "ipython",
    "version": 3
   },
   "file_extension": ".py",
   "mimetype": "text/x-python",
   "name": "python",
   "nbconvert_exporter": "python",
   "pygments_lexer": "ipython3",
   "version": "3.11.1 (tags/v3.11.1:a7a450f, Dec  6 2022, 19:58:39) [MSC v.1934 64 bit (AMD64)]"
  },
  "orig_nbformat": 4,
  "vscode": {
   "interpreter": {
    "hash": "5238573367df39f7286bb46f9ff5f08f63a01a80960060ce41e3c79b190280fa"
   }
  }
 },
 "nbformat": 4,
 "nbformat_minor": 2
}
