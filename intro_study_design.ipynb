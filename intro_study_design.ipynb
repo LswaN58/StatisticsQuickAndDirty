{
 "cells": [
  {
   "attachments": {},
   "cell_type": "markdown",
   "metadata": {},
   "source": [
    "# Introduction to Study Design"
   ]
  },
  {
   "attachments": {},
   "cell_type": "markdown",
   "metadata": {},
   "source": [
    "## Variables\n",
    "\n",
    "A study can have **dependent** and **independent** variables, also called **outcome** and **explanatory**, respectively.\n",
    "We typically look for differences in outcome between two populations."
   ]
  },
  {
   "attachments": {},
   "cell_type": "markdown",
   "metadata": {},
   "source": [
    "It is often helpful to use tables of data for initial insight into data.\n",
    "For example, we can look at the **frequency distribution** or **conditional distribution** tables:\n",
    "\n",
    "The **frequency distribution** is often called the **contingency table**\n",
    "\n",
    "Frequency Distribution:  \n",
    "|      |      | High Quality | Low Quality | Total |\n",
    "| ---  | ---  | ---          | ---         | ---   |\n",
    "| Type | Fuji | 45           | 5           | 50    |\n",
    "|      | Honeycrisp | 35     | 15          | 50    |\n",
    "\n",
    "Conditional Distribution:  \n",
    "|      |      | High Quality | Low Quality | Total |\n",
    "| ---  | ---  | ---          | ---         | ---   |\n",
    "| Type | Fuji | 90%          | 10%         | 100%  |\n",
    "|      | Honeycrisp | 70%    | 30%         | 100%  |"
   ]
  },
  {
   "attachments": {},
   "cell_type": "markdown",
   "metadata": {},
   "source": [
    "## Statistical Tests\n",
    "\n",
    "There are a variety of tests we may apply. \n",
    "\n",
    "The Z-distribution is usable for comparing two populations.\n",
    "We have null hypothesis $H_0: p_1 = p_2$ and alternate hypothesis $H_a : p_1 \\ne p_2$\n",
    "\n",
    "The $\\Chi^2$, or Chi Square distribution, tests for a significant difference between two categorical variables, across $\\ge 2$ levels.  \n",
    "It tests for the existence of any differences between the distributions."
   ]
  },
  {
   "attachments": {},
   "cell_type": "markdown",
   "metadata": {},
   "source": []
  }
 ],
 "metadata": {
  "kernelspec": {
   "display_name": "Python 3",
   "language": "python",
   "name": "python3"
  },
  "language_info": {
   "codemirror_mode": {
    "name": "ipython",
    "version": 3
   },
   "file_extension": ".py",
   "mimetype": "text/x-python",
   "name": "python",
   "nbconvert_exporter": "python",
   "pygments_lexer": "ipython3",
   "version": "3.11.1"
  },
  "orig_nbformat": 4,
  "vscode": {
   "interpreter": {
    "hash": "5238573367df39f7286bb46f9ff5f08f63a01a80960060ce41e3c79b190280fa"
   }
  }
 },
 "nbformat": 4,
 "nbformat_minor": 2
}
